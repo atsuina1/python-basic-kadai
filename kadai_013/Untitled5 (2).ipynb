{
  "nbformat": 4,
  "nbformat_minor": 0,
  "metadata": {
    "colab": {
      "provenance": []
    },
    "kernelspec": {
      "name": "python3",
      "display_name": "Python 3"
    },
    "language_info": {
      "name": "python"
    }
  },
  "cells": [
    {
      "cell_type": "code",
      "source": [
        "# 与えられた引数$priceに消費税を加算し、その値を出力する関数を定義する\n",
        "def consumertax(price,tax):\n",
        "  #与えられた引数priceに税率taxを加算し、変数totalに代入する\n",
        "  total = price + (price * tax / 100)\n",
        "  #変数totalの値を出力する\n",
        "  print(f\"{total}円\")\n",
        "\n",
        "#関数を呼び出し、引数として購入金額と税率を渡す\n",
        "consumertax(110, 10)"
      ],
      "metadata": {
        "colab": {
          "base_uri": "https://localhost:8080/"
        },
        "id": "JK0zid1IIrzf",
        "outputId": "51cc09f9-7e29-436c-a001-be10bd130f8f"
      },
      "execution_count": 5,
      "outputs": [
        {
          "output_type": "stream",
          "name": "stdout",
          "text": [
            "121.0円\n"
          ]
        }
      ]
    },
    {
      "cell_type": "code",
      "source": [],
      "metadata": {
        "id": "CxgnZGZjKL81"
      },
      "execution_count": null,
      "outputs": []
    }
  ]
}