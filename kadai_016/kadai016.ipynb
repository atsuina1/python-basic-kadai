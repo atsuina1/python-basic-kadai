{
  "nbformat": 4,
  "nbformat_minor": 0,
  "metadata": {
    "colab": {
      "provenance": []
    },
    "kernelspec": {
      "name": "python3",
      "display_name": "Python 3"
    },
    "language_info": {
      "name": "python"
    }
  },
  "cells": [
    {
      "cell_type": "code",
      "execution_count": 8,
      "metadata": {
        "colab": {
          "base_uri": "https://localhost:8080/"
        },
        "id": "wkhu6RSn4xTH",
        "outputId": "1c6ecf0c-8622-4e82-9566-47f9703d94af"
      },
      "outputs": [
        {
          "output_type": "stream",
          "name": "stdout",
          "text": [
            "太郎さんは大人です\n",
            "花子さんは大人ではありません\n",
            "次郎さんは大人です\n"
          ]
        }
      ],
      "source": [
        "#名前(name)と年齢(age)の属性を持つHumanクラスを作成\n",
        "class Human:\n",
        "     def __init__(self,name,age):\n",
        "#属性を定義する\n",
        "        self.name=name\n",
        "        self.age=age\n",
        "\n",
        "#nameとageを標準出力(print)するメソッド(printinfo)を追加\n",
        "     def check_adult(self):\n",
        "        if self.age >= 20:\n",
        "            print(f\"{self.name}さんは大人です\")\n",
        "        else:\n",
        "            print(f\"{self.name}さんは大人ではありません\")\n",
        "\n",
        "\n",
        "#Humanクラスのインスタンスを作成\n",
        "humans = [\n",
        "    Human(\"太郎\", 25),\n",
        "    Human(\"花子\", 18),\n",
        "    Human(\"次郎\", 30)\n",
        "]\n",
        "\n",
        "for human in humans:\n",
        "    human.check_adult()"
      ]
    },
    {
      "cell_type": "code",
      "source": [],
      "metadata": {
        "id": "zFcXy0uV0oy4"
      },
      "execution_count": null,
      "outputs": []
    }
  ]
}