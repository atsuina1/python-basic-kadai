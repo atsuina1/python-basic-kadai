{
  "nbformat": 4,
  "nbformat_minor": 0,
  "metadata": {
    "colab": {
      "provenance": []
    },
    "kernelspec": {
      "name": "python3",
      "display_name": "Python 3"
    },
    "language_info": {
      "name": "python"
    }
  },
  "cells": [
    {
      "cell_type": "code",
      "execution_count": 6,
      "metadata": {
        "colab": {
          "base_uri": "https://localhost:8080/"
        },
        "id": "wkhu6RSn4xTH",
        "outputId": "c1f92650-f57c-4603-bf57-261c2c1b79f4"
      },
      "outputs": [
        {
          "output_type": "stream",
          "name": "stdout",
          "text": [
            "名前:太郎  年齢:20\n"
          ]
        }
      ],
      "source": [
        "#名前(name)と年齢(age)の属性を持つHumanクラスを作成\n",
        "class Human:\n",
        "     def __init__(self,name,age):\n",
        "#属性を定義する\n",
        "        self.name=name\n",
        "        self.age=age\n",
        "\n",
        "#nameとageを標準出力(print)するメソッド(printinfo)を追加\n",
        "     def printinfo(self):\n",
        "        print(f\"名前:{self.name}  年齢:{self.age}\")\n",
        "\n",
        "#Humanクラスのインスタンスを作成\n",
        "person = Human(\"太郎\", 20)\n",
        "\n",
        "person.printinfo()"
      ]
    },
    {
      "cell_type": "code",
      "source": [],
      "metadata": {
        "id": "zFcXy0uV0oy4"
      },
      "execution_count": null,
      "outputs": []
    }
  ]
}